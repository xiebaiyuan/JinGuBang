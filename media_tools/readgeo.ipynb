{
 "cells": [
  {
   "cell_type": "code",
   "execution_count": 2,
   "id": "9f06945a",
   "metadata": {},
   "outputs": [
    {
     "name": "stdout",
     "output_type": "stream",
     "text": [
      "Requirement already satisfied: v2ray_util in /Users/xiebaiyuan/miniforge3/lib/python3.10/site-packages (3.11.4)\n"
     ]
    },
    {
     "ename": "ImportError",
     "evalue": "cannot import name 'GeoSite' from 'v2ray_util' (/Users/xiebaiyuan/miniforge3/lib/python3.10/site-packages/v2ray_util/__init__.py)",
     "output_type": "error",
     "traceback": [
      "\u001b[0;31m---------------------------------------------------------------------------\u001b[0m",
      "\u001b[0;31mImportError\u001b[0m                               Traceback (most recent call last)",
      "Cell \u001b[0;32mIn[2], line 3\u001b[0m\n\u001b[1;32m      1\u001b[0m \u001b[38;5;66;03m# 示例：使用 v2ray_util 库解析（需安装 pip install v2ray_util）\u001b[39;00m\n\u001b[1;32m      2\u001b[0m get_ipython()\u001b[38;5;241m.\u001b[39msystem(\u001b[38;5;124m'\u001b[39m\u001b[38;5;124mpip install v2ray_util\u001b[39m\u001b[38;5;124m'\u001b[39m)\n\u001b[0;32m----> 3\u001b[0m \u001b[38;5;28;01mfrom\u001b[39;00m\u001b[38;5;250m \u001b[39m\u001b[38;5;21;01mv2ray_util\u001b[39;00m\u001b[38;5;250m \u001b[39m\u001b[38;5;28;01mimport\u001b[39;00m GeoSite, GeoIP\n\u001b[1;32m      5\u001b[0m \u001b[38;5;66;03m# 解析 geosite.dat\u001b[39;00m\n\u001b[1;32m      6\u001b[0m geosite \u001b[38;5;241m=\u001b[39m GeoSite\u001b[38;5;241m.\u001b[39mload(\u001b[38;5;124m\"\u001b[39m\u001b[38;5;124mgeosite.dat\u001b[39m\u001b[38;5;124m\"\u001b[39m)\n",
      "\u001b[0;31mImportError\u001b[0m: cannot import name 'GeoSite' from 'v2ray_util' (/Users/xiebaiyuan/miniforge3/lib/python3.10/site-packages/v2ray_util/__init__.py)"
     ]
    }
   ],
   "source": [
    "# 示例：使用 v2ray_util 库解析（需安装 pip install v2ray_util）\n",
    "!pip install v2ray_util\n",
    "from v2ray_util import GeoSite, GeoIP\n",
    "\n",
    "# 解析 geosite.dat\n",
    "geosite = GeoSite.load(\"geosite.dat\")\n",
    "print(geosite.get_domains(\"cn\"))  # 输出中国大陆域名列表\n",
    "\n",
    "# 解析 geoip.dat\n",
    "geoip = GeoIP.load(\"geoip.dat\")\n",
    "print(geoip.get_ips(\"CN\"))  # 输出中国IP段\n"
   ]
  }
 ],
 "metadata": {
  "kernelspec": {
   "display_name": "base",
   "language": "python",
   "name": "python3"
  },
  "language_info": {
   "codemirror_mode": {
    "name": "ipython",
    "version": 3
   },
   "file_extension": ".py",
   "mimetype": "text/x-python",
   "name": "python",
   "nbconvert_exporter": "python",
   "pygments_lexer": "ipython3",
   "version": "3.10.14"
  }
 },
 "nbformat": 4,
 "nbformat_minor": 5
}
